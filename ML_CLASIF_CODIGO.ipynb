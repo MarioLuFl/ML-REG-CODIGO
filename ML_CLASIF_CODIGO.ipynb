{
  "nbformat": 4,
  "nbformat_minor": 0,
  "metadata": {
    "colab": {
      "provenance": []
    },
    "kernelspec": {
      "name": "python3",
      "display_name": "Python 3"
    },
    "language_info": {
      "name": "python"
    }
  },
  "cells": [
    {
      "cell_type": "code",
      "source": [
        "#Importación de librerías para clasificación\n",
        "import pandas as pd\n",
        "from sklearn.model_selection import train_test_split\n",
        "from sklearn.preprocessing import StandardScaler\n",
        "from sklearn.linear_model import LogisticRegression\n",
        "from sklearn.ensemble import RandomForestClassifier\n",
        "from sklearn.metrics import classification_report, accuracy_score\n",
        "\n",
        "# Cargar los datos desde el archivo CSV\n",
        "df = pd.read_csv('data_fallas_motores.csv')"
      ],
      "metadata": {
        "id": "rcnqUKmpyj8a"
      },
      "execution_count": null,
      "outputs": []
    },
    {
      "cell_type": "code",
      "source": [
        "# PUEDE EDITAR LOS PARÁMETROS (X) Y LA RESPUESTA (Y) EN CASO ANALICE OTRO TÓPICO (TEMA)\n",
        "X = df[['temperatura (°C)', 'vibracion (mm/s)', 'corriente (A)', 'rpm',\n",
        "        'tiempo_operacion (h)', 'presion (Pa)', 'humedad (%)', 'mantenimiento_reciente',\n",
        "        'eficiencia (%)', 'carga (%)', 'horas_ultimo_mantenimiento']]\n",
        "y = df['falla']\n",
        "\n",
        "# Divide los datos en conjuntos de entrenamiento y prueba (80% y 20% respectivamente)\n",
        "X_train, X_test, y_train, y_test = train_test_split(X, y, test_size=0.2, random_state=42)\n",
        "scaler = StandardScaler()\n",
        "X_train = scaler.fit_transform(X_train)\n",
        "X_test = scaler.transform(X_test)\n",
        "\n",
        "# PUEDE EDITAR EL TIPO DE MODELO EN CASO SEA NECESARIO, en este primer ejemplo\n",
        "# se entrena el modelo de regresión logística para clasificación binaria\n",
        "model_binario = LogisticRegression(max_iter=1000)\n",
        "model_binario.fit(X_train, y_train)\n",
        "\n",
        "# Predicciones y evaluación\n",
        "y_pred = model_binario.predict(X_test)\n",
        "print(\"Clasificación Binaria\")\n",
        "print(\"Accuracy:\", accuracy_score(y_test, y_pred))\n",
        "print(classification_report(y_test, y_pred))"
      ],
      "metadata": {
        "colab": {
          "base_uri": "https://localhost:8080/"
        },
        "id": "1B-xFC_d6myE",
        "outputId": "60ee597e-e495-4894-da38-8a68456d2d15"
      },
      "execution_count": null,
      "outputs": [
        {
          "output_type": "stream",
          "name": "stdout",
          "text": [
            "Clasificación Binaria\n",
            "Accuracy: 0.68\n",
            "              precision    recall  f1-score   support\n",
            "\n",
            "           0       0.67      0.75      0.71       103\n",
            "           1       0.69      0.61      0.65        97\n",
            "\n",
            "    accuracy                           0.68       200\n",
            "   macro avg       0.68      0.68      0.68       200\n",
            "weighted avg       0.68      0.68      0.68       200\n",
            "\n"
          ]
        }
      ]
    },
    {
      "cell_type": "code",
      "source": [
        "# PUEDE EDITAR LOS PARÁMETROS (X) Y LA RESPUESTA (Y) EN CASO ANALICE OTRO TÓPICO (TEMA)\n",
        "# Para clasificación multiclase ha variado la respuesta (Y), desde \"falla\" a \"tipo_falla\"\n",
        "X = df[['temperatura (°C)', 'vibracion (mm/s)', 'corriente (A)', 'rpm',\n",
        "        'tiempo_operacion (h)', 'presion (Pa)', 'humedad (%)', 'mantenimiento_reciente',\n",
        "        'eficiencia (%)', 'carga (%)', 'horas_ultimo_mantenimiento']]\n",
        "y = df['tipo_falla']\n",
        "\n",
        "# Divide los datos en conjuntos de entrenamiento y prueba (80% y 20% respectivamente)\n",
        "X_train, X_test, y_train, y_test = train_test_split(X, y, test_size=0.2, random_state=42)\n",
        "scaler = StandardScaler()\n",
        "X_train = scaler.fit_transform(X_train)\n",
        "X_test = scaler.transform(X_test)\n",
        "\n",
        "# PUEDE EDITAR EL TIPO DE MODELO EN CASO SEA NECESARIO, en este segundo ejemplo\n",
        "# se entrena el modelo de Random Forest para clasificación multiclase\n",
        "model_multiclase = RandomForestClassifier(n_estimators=100, random_state=42)\n",
        "model_multiclase.fit(X_train, y_train)\n",
        "\n",
        "# Predicciones y evaluación\n",
        "y_pred = model_multiclase.predict(X_test)\n",
        "print(\"Clasificación Multiclase\")\n",
        "print(\"Accuracy:\", accuracy_score(y_test, y_pred))\n",
        "print(classification_report(y_test, y_pred))"
      ],
      "metadata": {
        "colab": {
          "base_uri": "https://localhost:8080/"
        },
        "id": "mmeE1eKrM7h2",
        "outputId": "1c1ee7ce-cb24-43be-98a6-8c84338cdeb9"
      },
      "execution_count": null,
      "outputs": [
        {
          "output_type": "stream",
          "name": "stdout",
          "text": [
            "Clasificación Multiclase\n",
            "Accuracy: 0.985\n",
            "                             precision    recall  f1-score   support\n",
            "\n",
            "        Falla de eficiencia       0.88      1.00      0.93        14\n",
            "           Falla de humedad       1.00      0.86      0.92         7\n",
            "           Falla de presión       1.00      1.00      1.00         7\n",
            "Falla de sobrecalentamiento       1.00      1.00      1.00        28\n",
            "         Falla de vibración       1.00      1.00      1.00        66\n",
            "            Falla eléctrica       1.00      0.60      0.75         5\n",
            "                  Sin falla       0.99      1.00      0.99        69\n",
            "                 Sobrecarga       1.00      1.00      1.00         4\n",
            "\n",
            "                   accuracy                           0.98       200\n",
            "                  macro avg       0.98      0.93      0.95       200\n",
            "               weighted avg       0.99      0.98      0.98       200\n",
            "\n"
          ]
        }
      ]
    },
    {
      "cell_type": "code",
      "source": [
        "# Datos reales de motor\n",
        "datos_reales = {\n",
        "    'temperatura (°C)': [76],\n",
        "    'vibracion (mm/s)': [30],\n",
        "    'corriente (A)': [20],\n",
        "    'rpm': [1300],\n",
        "    'tiempo_operacion (h)': [600],\n",
        "    'presion (Pa)': [40],\n",
        "    'humedad (%)': [55],\n",
        "    'mantenimiento_reciente': [1],\n",
        "    'eficiencia (%)': [80],\n",
        "    'carga (%)': [85],\n",
        "    'horas_ultimo_mantenimiento': [250]\n",
        "}\n",
        "\n",
        "# Procesar los datos del motor\n",
        "df_datos = pd.DataFrame(datos_reales)\n",
        "X_datos = scaler.transform(df_datos)\n",
        "\n",
        "# Hacer la predicción\n",
        "prediccion = model_multiclase.predict(X_datos)\n",
        "probabilidades = model_multiclase.predict_proba(X_datos)\n",
        "\n",
        "# Mostrar probabilidades\n",
        "clases = model_multiclase.classes_\n",
        "resultado = prediccion[0]\n",
        "probabilidades_claras = {clase: probabilidad for clase, probabilidad in zip(clases, probabilidades[0])}\n",
        "\n",
        "print(f\"Predicción: {resultado}\")\n",
        "print(\"Probabilidades:\")\n",
        "for clase, probabilidad in probabilidades_claras.items():\n",
        "    print(f\"  {clase}: {probabilidad*100:.2f} %\")\n"
      ],
      "metadata": {
        "colab": {
          "base_uri": "https://localhost:8080/"
        },
        "id": "YxcV_4KFP1TK",
        "outputId": "cee5f10e-c6be-4fcf-f7ce-bd6aaa0f8288"
      },
      "execution_count": null,
      "outputs": [
        {
          "output_type": "stream",
          "name": "stdout",
          "text": [
            "Predicción: Falla de sobrecalentamiento\n",
            "Probabilidades:\n",
            "  Falla de eficiencia: 0.00 %\n",
            "  Falla de humedad: 3.00 %\n",
            "  Falla de presión: 0.00 %\n",
            "  Falla de sobrecalentamiento: 80.00 %\n",
            "  Falla de vibración: 10.00 %\n",
            "  Falla eléctrica: 0.00 %\n",
            "  Sin falla: 7.00 %\n",
            "  Sobrecarga: 0.00 %\n"
          ]
        }
      ]
    }
  ]
}